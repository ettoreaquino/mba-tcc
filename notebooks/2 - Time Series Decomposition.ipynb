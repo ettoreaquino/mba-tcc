{
 "cells": [
  {
   "cell_type": "markdown",
   "id": "7aa62d1d-a54a-4a2e-bc53-dd8d69579244",
   "metadata": {},
   "source": [
    "Once the data exploration is complete, it is now time to test some possible Python packages that could come in hand when decomposing the time series and improving the understand of how the wind speed behaves over time.\n",
    "\n",
    "\n",
    "One, relatively new Python package is called [`statsmodels`](https://www.statsmodels.org/stable/index.html), it came from the SciPy `scipy.stats` module, and is currently supported as a standalode package, I'll be usi\n"
   ]
  }
 ],
 "metadata": {
  "kernelspec": {
   "display_name": "Python 3 (ipykernel)",
   "language": "python",
   "name": "python3"
  },
  "language_info": {
   "codemirror_mode": {
    "name": "ipython",
    "version": 3
   },
   "file_extension": ".py",
   "mimetype": "text/x-python",
   "name": "python",
   "nbconvert_exporter": "python",
   "pygments_lexer": "ipython3",
   "version": "3.8.12"
  }
 },
 "nbformat": 4,
 "nbformat_minor": 5
}
