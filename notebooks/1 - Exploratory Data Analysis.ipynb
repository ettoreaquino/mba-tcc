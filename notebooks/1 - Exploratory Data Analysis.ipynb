{
 "cells": [
  {
   "cell_type": "markdown",
   "id": "e401c81c-7789-4dda-b7bc-74dbd21a3b81",
   "metadata": {},
   "source": [
    "# EXPLORATORY DATA ANALYSIS\n",
    "\n",
    "The goal of our analysis is to understand how the wind speed behaves over time, and propose the most adaqueate way of forecasting its _day ahead_.\n",
    "\n",
    "Developing Wind farms involves a lot of resources, both financial an natural. Before deciding to construct such enterprises, companies take several measurements of the wind resourse by placing temporary measurement towers, which collect data over one year of preferably more.\n",
    "\n",
    "The analysis here aims to investigate the data provided by a single tower in an undisclosed location. The selected tower has wind measurements at different hights going back to Jan 2015 but, in order to simplify the analysis, only the highest anemometer data will be used.\n",
    "\n",
    "Before advancing into forecasting, it is very important to be aware of the statistical behavior of the time series. In order to do that, the present Notebook focuses on the visual analysis as well as a mathematical exploration of some theorems on Time Series forecasting.\n",
    "\n",
    "> A simple library was built to help make this notebook cleaner. Because of that, most of the code used here will be injected using modules and submodules, check `main.py` and `services` for code."
   ]
  },
  {
   "cell_type": "code",
   "execution_count": null,
   "id": "2d5d5619-a4af-420c-8085-8f86aca3a07e",
   "metadata": {},
   "outputs": [],
   "source": [
    "from main import WindSpeedTower\n",
    "\n",
    "from services import translation"
   ]
  },
  {
   "cell_type": "markdown",
   "id": "ed8447f2-5c24-461b-9803-e4a2967a446e",
   "metadata": {},
   "source": [
    "## Loading the Dataset\n",
    "\n",
    "As mentioned before, I'll be using modules to reduce the ammount of code exposed in this notebook."
   ]
  },
  {
   "cell_type": "code",
   "execution_count": null,
   "id": "363beb6a-3441-4d4d-92e2-7e9786aabaed",
   "metadata": {},
   "outputs": [],
   "source": [
    "Tower = WindSpeedTower(name='UT001', csv_path='datasets/wind.csv')\n",
    "Tower.data.head()"
   ]
  },
  {
   "cell_type": "markdown",
   "id": "2da8c1a3-998b-48d9-93dd-3896c0b9ba2f",
   "metadata": {},
   "source": [
    "### Decribing\n",
    "\n",
    "`Pandas` have a nice method for DataFrames, which allows the statistical description of the columns."
   ]
  },
  {
   "cell_type": "code",
   "execution_count": null,
   "id": "15ed6d2f-4b02-42cf-8462-c038d43263b2",
   "metadata": {},
   "outputs": [],
   "source": [
    "Tower.data.describe()"
   ]
  },
  {
   "cell_type": "markdown",
   "id": "921c5712-6558-431c-b9bc-4f752eb78523",
   "metadata": {},
   "source": [
    "## Visualizing\n",
    "\n",
    "The following cell shows the _10min average_ wind speed. Eventhough it would be interesting to work on this level of granularity, the average over longer periods of time might show aditional statiscal behaviours."
   ]
  },
  {
   "cell_type": "code",
   "execution_count": null,
   "id": "d20ca2fe-6bd5-4403-aac6-a6b277b15dff",
   "metadata": {},
   "outputs": [],
   "source": [
    "Tower.plot_series(export=False)"
   ]
  },
  {
   "cell_type": "markdown",
   "id": "dfad3be4-074f-4033-a8c3-0736e69d3424",
   "metadata": {},
   "source": [
    "As the plots show, there seems to be a lot of noise in the series, but if we plot the average speed over longer periods of time, some patterns start to emerge. As further analysis will show, just calculating average over time does not bring much value into the exploration, but some seasonality and trend rise from the data."
   ]
  },
  {
   "cell_type": "markdown",
   "id": "19576110-c0e2-4c34-b965-e5089b87d73a",
   "metadata": {},
   "source": [
    "### Handling Missing Values\n",
    "\n",
    "Before advancing, lets investigate what seems to be a gap in 2016. Looks like December 2016 has null values in our Series. Let's visualize it and make sure:"
   ]
  },
  {
   "cell_type": "code",
   "execution_count": null,
   "id": "a5a321c5-8d5e-433a-8d02-40ee5889a39d",
   "metadata": {},
   "outputs": [],
   "source": [
    "Tower.plot_date(year=2016, month=12)"
   ]
  },
  {
   "cell_type": "markdown",
   "id": "bc193f04-c43d-40e8-bf27-2d6b4bdce2f9",
   "metadata": {},
   "source": [
    "Yes, there seems to be a problem with the dataset that should be addressed. Since there are so many data points along the period of time, we should not assume they are all filled or there are no gaps in our data. Before taking any measures on the missing values let's check how they behave and if we should be worry at all about them.\n",
    "\n",
    "> **NOTE**: During the csv translation the dataset was already forced to produce a 10min frequency Time Series, and because of that we should not be worried about gaps in the range, only about the missing values\n",
    "\n",
    "Values missing in a dataset can be classified as follows: [1](https://link.springer.com/article/10.1007/s10489-018-1139-9#:~:text=There%20are%20three%20types%20of,to%20impute%20these%20missing%20values.):\n",
    "\n",
    "1. Missing Completely At Random (MCAR)\n",
    "2. Missing At Random (MAR)\n",
    "3. Not Missing at Random (NMAR)\n",
    "\n",
    "Depending on how your missing values are classified your approach to them might be completely diferent, for example: values missing completely at random will not bring bias to your model, not missing a random might change the way you look at your data.\n",
    "\n",
    "A special method was implemented to count missing values in the `WindSpeedTower` object."
   ]
  },
  {
   "cell_type": "code",
   "execution_count": null,
   "id": "9de55ae1-84ba-450e-bbf0-d269053da757",
   "metadata": {},
   "outputs": [],
   "source": [
    "Tower.missing_stats(verbose=True)"
   ]
  },
  {
   "cell_type": "markdown",
   "id": "06138a33-f9c4-4a83-9e07-b6e2f3e4c838",
   "metadata": {},
   "source": [
    "First, the missing values seems to be completly at random, which makes sense if we consider that our data is produced by sensors, which can fail and generate gaps.\n",
    "\n",
    "Second, the ammount of missing values does not seem to be significant. Since they account for only 0.7961% of the total. \n",
    "\n",
    "Eventhough there are only a few missing values, let's check if they actually fall into the Completely at Random category (_MCAR_). In order to do that, I'll be using the [`missingo`](https://github.com/ResidentMario/missingno) Python package."
   ]
  },
  {
   "cell_type": "code",
   "execution_count": null,
   "id": "25b4e0fe-15dd-4763-9111-02515fbe0f71",
   "metadata": {},
   "outputs": [],
   "source": [
    "# Import missingo package\n",
    "\n",
    "import missingno as msno"
   ]
  },
  {
   "cell_type": "markdown",
   "id": "203d19da-d873-44c0-b99c-7a80b742575a",
   "metadata": {
    "tags": []
   },
   "source": [
    "### Visualizing Missing Values\n",
    "\n",
    "By visualizing how the missing values are distributed, we could have a clue of how to classify them. Let's use the `matryx()` method."
   ]
  },
  {
   "cell_type": "code",
   "execution_count": null,
   "id": "0c4ff099-c2a4-4a52-8f92-d91309471c05",
   "metadata": {},
   "outputs": [],
   "source": [
    "msno.matrix(Tower.data);"
   ]
  },
  {
   "cell_type": "markdown",
   "id": "56b3fc54-1dee-4ca1-91eb-b6f664ef2636",
   "metadata": {},
   "source": [
    "As the plot shows, there only seems to be 3 significant gaps. Judging by the distribution of the gaps (side bar) they are not evenly distributed whatsoever. Because of that we can assume that missing values will not statistically impact our analysis. "
   ]
  },
  {
   "cell_type": "markdown",
   "id": "eaf97711-e551-4699-b6e6-1d3f6c0149d4",
   "metadata": {},
   "source": [
    "## Time Series Decomposition\n",
    "\n",
    "Another very important step in the analysis is the decomposition of a time series into its main components:\n",
    "\n",
    "- Seasonality\n",
    "- Trend (Or Trend-Cycle)\n",
    "- Remainder (Which accounts for everything else)\n",
    "\n",
    "Those components underline the patterns that might govern the data. It is often helpful apply mathematical simplifications that could remove known sources of variations, in our case, observing the series under a 10min granularity brings a lot of noise, perhaps by observing the patterns under longer periods of time would be better.\n",
    "\n"
   ]
  },
  {
   "cell_type": "code",
   "execution_count": null,
   "id": "ada1a0f8-55f6-4095-ac98-da9f105dfa2f",
   "metadata": {},
   "outputs": [],
   "source": [
    "from services import timeseries "
   ]
  },
  {
   "cell_type": "code",
   "execution_count": null,
   "id": "140a5b43-3f26-4002-ab00-72cc8dcf18a1",
   "metadata": {},
   "outputs": [],
   "source": [
    "timeseries.resample(dataset=Tower.data, rule='m')[['mean']]"
   ]
  },
  {
   "cell_type": "code",
   "execution_count": null,
   "id": "69d043c7-30a6-4ab5-836a-5b79527c623c",
   "metadata": {},
   "outputs": [],
   "source": [
    "Tower.decompose(period='d', model='additive', plot=True, overlay_trend=False, export=False)"
   ]
  },
  {
   "cell_type": "markdown",
   "id": "8d58cfa1-2a3c-437b-ae4c-592c26b5e986",
   "metadata": {},
   "source": [
    "### Unit Root Test\n",
    "\n",
    "One of the most important characteristics to be classified in a series, is its _stationarity_. In order check for stationarity, let's use the Dickey-Fuller test for unit root\n",
    "\n",
    "#### **HOURLY AGGREGATION**"
   ]
  },
  {
   "cell_type": "code",
   "execution_count": null,
   "id": "9fa07faf-16ad-4898-97c9-1a8a5eb27449",
   "metadata": {},
   "outputs": [],
   "source": [
    "Tower.stationarity(period='h', plot=True, verbose=True, export=True)"
   ]
  },
  {
   "cell_type": "markdown",
   "id": "d2ec0a31-0ed8-40aa-abe1-cf8369eb2566",
   "metadata": {},
   "source": [
    "---\n",
    "\n",
    "#### **DAILY AGGREGATION**"
   ]
  },
  {
   "cell_type": "code",
   "execution_count": null,
   "id": "80249c7f-2f75-448a-bde1-48003bbfa608",
   "metadata": {},
   "outputs": [],
   "source": [
    "Tower.stationarity(period='d', plot=True, verbose=True, export=True)"
   ]
  },
  {
   "cell_type": "markdown",
   "id": "bb70bc8e-25b1-4e5d-abd8-af979520c85b",
   "metadata": {},
   "source": [
    "---\n",
    "\n",
    "#### **WEEKLY AGGREGATION**"
   ]
  },
  {
   "cell_type": "code",
   "execution_count": null,
   "id": "c4097702-0594-4eae-b7f9-746e8c5bfa4d",
   "metadata": {},
   "outputs": [],
   "source": [
    "Tower.stationarity(period='w', plot=True, verbose=True, export=True)"
   ]
  },
  {
   "cell_type": "markdown",
   "id": "c3bacdaf-eea2-4d86-963d-0536a49f0251",
   "metadata": {},
   "source": [
    "---\n",
    "\n",
    "#### **MONTHLY AGGREGATION**"
   ]
  },
  {
   "cell_type": "code",
   "execution_count": null,
   "id": "2677d9d0-be21-444b-93ea-159135f411d4",
   "metadata": {},
   "outputs": [],
   "source": [
    "Tower.stationarity(period='m', plot=True, verbose=True, export=True)"
   ]
  },
  {
   "cell_type": "markdown",
   "id": "07b632db-71b8-41af-9994-8c605be369b9",
   "metadata": {},
   "source": [
    "## Train/Test Splits\n",
    "\n",
    "In order to evaluate any model, it will be important to set the train and test splits. \n",
    "\n",
    "Let's consider the following information:\n",
    "\n",
    " - Series Start: 2015-01-01 00:00:00\n",
    " - Series End: 2021-12-24 18:00:00\n",
    " - Complete years: 6\n",
    " \n",
    " Hence, lets split the dataset into:\n",
    " \n",
    " - Train: < 2020-01-01 00:00:00\n",
    " - Test: >= 2020-01-01 00:00:00\n",
    "\n"
   ]
  },
  {
   "cell_type": "code",
   "execution_count": null,
   "id": "0893252b-c332-49e3-9468-7f6c37742fab",
   "metadata": {},
   "outputs": [],
   "source": [
    "split = '2020-01-01'\n",
    "Tower.build_sets(period='m', split=split, plot=True)"
   ]
  },
  {
   "cell_type": "code",
   "execution_count": null,
   "id": "365f5f2f-a432-49bc-86a5-9a5e785338c7",
   "metadata": {},
   "outputs": [],
   "source": [
    "Tower.save()"
   ]
  }
 ],
 "metadata": {
  "kernelspec": {
   "display_name": "Python 3 (ipykernel)",
   "language": "python",
   "name": "python3"
  },
  "language_info": {
   "codemirror_mode": {
    "name": "ipython",
    "version": 3
   },
   "file_extension": ".py",
   "mimetype": "text/x-python",
   "name": "python",
   "nbconvert_exporter": "python",
   "pygments_lexer": "ipython3",
   "version": "3.8.12"
  }
 },
 "nbformat": 4,
 "nbformat_minor": 5
}
